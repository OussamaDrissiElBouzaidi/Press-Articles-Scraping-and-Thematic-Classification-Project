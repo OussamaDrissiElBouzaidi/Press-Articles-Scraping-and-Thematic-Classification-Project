{
 "cells": [
  {
   "cell_type": "code",
   "execution_count": 12,
   "id": "1039b28d-a511-4223-8cbc-fd5f938fd291",
   "metadata": {},
   "outputs": [],
   "source": [
    "import json\n",
    "import numpy as np\n",
    "from sklearn.feature_extraction.text import TfidfVectorizer\n",
    "from sklearn.model_selection import train_test_split\n",
    "from sklearn.svm import SVC\n",
    "from sklearn.metrics import accuracy_score\n",
    "from sklearn.preprocessing import LabelEncoder\n",
    "from nltk.tokenize import word_tokenize\n",
    "from nltk.corpus import stopwords\n",
    "import nltk"
   ]
  },
  {
   "cell_type": "code",
   "execution_count": 3,
   "id": "66eabd77-425a-42a0-a9a1-da68ead16004",
   "metadata": {},
   "outputs": [
    {
     "name": "stderr",
     "output_type": "stream",
     "text": [
      "[nltk_data] Downloading package punkt to C:\\Users\\admin\n",
      "[nltk_data]     pc\\AppData\\Roaming\\nltk_data...\n",
      "[nltk_data]   Package punkt is already up-to-date!\n",
      "[nltk_data] Downloading package stopwords to C:\\Users\\admin\n",
      "[nltk_data]     pc\\AppData\\Roaming\\nltk_data...\n",
      "[nltk_data]   Package stopwords is already up-to-date!\n"
     ]
    },
    {
     "data": {
      "text/plain": [
       "True"
      ]
     },
     "execution_count": 3,
     "metadata": {},
     "output_type": "execute_result"
    }
   ],
   "source": [
    "nltk.download('punkt')\n",
    "nltk.download('stopwords')"
   ]
  },
  {
   "cell_type": "code",
   "execution_count": 10,
   "id": "1e79900c-4323-4b4c-98fd-4f2bf83a531a",
   "metadata": {},
   "outputs": [],
   "source": [
    "def charger_donnees(fichier_json):\n",
    "    titres = []\n",
    "    contents = []\n",
    "    keywords = []\n",
    "    categories = []\n",
    "\n",
    "    with open(fichier_json, \"r\") as file:\n",
    "        data = json.load(file)\n",
    "        titres.extend(data[\"titles\"])\n",
    "        contents.extend(data[\"contents\"])\n",
    "        keywords.extend([Keyword for Keyword in data[\"keyWords\"]])\n",
    "        categories.extend(data[\"categories\"])\n",
    "    \n",
    "    \n",
    "\n",
    "    return titres, contents, keywords, categories"
   ]
  },
  {
   "cell_type": "code",
   "execution_count": 4,
   "id": "d579bbf0-be22-4fa3-a12d-0b3dbc9ceeb5",
   "metadata": {},
   "outputs": [],
   "source": [
    "def diviser_donnees(features, categories, test_size=0.25):\n",
    "    X_train, X_test, y_train, y_test = train_test_split(features, categories, test_size=test_size)\n",
    "    return X_train, X_test, y_train, y_test"
   ]
  },
  {
   "cell_type": "code",
   "execution_count": 13,
   "id": "78e2df0f-78d1-4d0e-a396-3adaa854c767",
   "metadata": {},
   "outputs": [],
   "source": [
    "# Vectoriser les features en utilisant TF-IDF avec tokenization et suppression des mots vides\n",
    "def vectoriser_features(features):\n",
    "    stop_words = stopwords.words('english')\n",
    "    vectorizer = TfidfVectorizer(tokenizer=word_tokenize, stop_words=stop_words)\n",
    "    return vectorizer.fit_transform(features)\n"
   ]
  },
  {
   "cell_type": "code",
   "execution_count": 6,
   "id": "c758b775-96d0-4cb7-ab66-860bd4273b12",
   "metadata": {},
   "outputs": [],
   "source": [
    "def encoder_categories(categories):\n",
    "    le = LabelEncoder()\n",
    "    categories_encoded = le.fit_transform(categories)\n",
    "    return categories_encoded, le\n"
   ]
  },
  {
   "cell_type": "code",
   "execution_count": 16,
   "id": "87c25ad4-476e-43fb-b91c-31fb21679034",
   "metadata": {},
   "outputs": [],
   "source": [
    "def entrainer_modele(X_train, y_train):\n",
    "    model = SVC()\n",
    "    model.fit(X_train, y_train)\n",
    "    return model"
   ]
  },
  {
   "cell_type": "code",
   "execution_count": 17,
   "id": "3a6a7a1f-8e81-4a7d-aa4b-ed2d4f26fa9e",
   "metadata": {},
   "outputs": [],
   "source": [
    "def evaluer_modele(model, X_test, y_test):\n",
    "    predictions = model.predict(X_test)\n",
    "    accuracy = accuracy_score(y_test, predictions)\n",
    "    return accuracy"
   ]
  },
  {
   "cell_type": "code",
   "execution_count": 17,
   "id": "764a7017-f1ec-453a-afc0-030a85a102eb",
   "metadata": {},
   "outputs": [
    {
     "name": "stderr",
     "output_type": "stream",
     "text": [
      "C:\\Users\\admin pc\\anaconda3\\Lib\\site-packages\\sklearn\\feature_extraction\\text.py:525: UserWarning: The parameter 'token_pattern' will not be used since 'tokenizer' is not None'\n",
      "  warnings.warn(\n",
      "C:\\Users\\admin pc\\anaconda3\\Lib\\site-packages\\sklearn\\feature_extraction\\text.py:408: UserWarning: Your stop_words may be inconsistent with your preprocessing. Tokenizing the stop words generated tokens [\"'d\", \"'ll\", \"'re\", \"'s\", \"'ve\", 'could', 'might', 'must', \"n't\", 'need', 'sha', 'wo', 'would'] not in stop_words.\n",
      "  warnings.warn(\n"
     ]
    },
    {
     "ename": "NameError",
     "evalue": "name 'evaluer_modele' is not defined",
     "output_type": "error",
     "traceback": [
      "\u001b[1;31m---------------------------------------------------------------------------\u001b[0m",
      "\u001b[1;31mNameError\u001b[0m                                 Traceback (most recent call last)",
      "Cell \u001b[1;32mIn[17], line 23\u001b[0m\n\u001b[0;32m     20\u001b[0m modele \u001b[38;5;241m=\u001b[39m entrainer_modele(X_train_vec, y_train_encoded)\n\u001b[0;32m     22\u001b[0m \u001b[38;5;66;03m# Évaluer le modèle\u001b[39;00m\n\u001b[1;32m---> 23\u001b[0m accuracy \u001b[38;5;241m=\u001b[39m evaluer_modele(modele, X_test_vec, y_test_encoded)\n\u001b[0;32m     24\u001b[0m \u001b[38;5;28mprint\u001b[39m(\u001b[38;5;124m\"\u001b[39m\u001b[38;5;124mPrécision du modèle :\u001b[39m\u001b[38;5;124m\"\u001b[39m, accuracy)\n",
      "\u001b[1;31mNameError\u001b[0m: name 'evaluer_modele' is not defined"
     ]
    }
   ],
   "source": [
    "# Charger les données\n",
    "fichier_json = \"Data.json\"\n",
    "titres, contenus, keywords, categories = charger_donnees(fichier_json)\n",
    "\n",
    "# Concaténer les titres, contenus et mots-clés comme features\n",
    "features = [f\"{titre} {contenu} {keyword}\" for titre, contenu, keyword in zip(titres, contenus, keywords)]\n",
    "\n",
    "# Diviser les données en ensembles d'entraînement et de test\n",
    "X_train, X_test, y_train, y_test = diviser_donnees(features, categories)\n",
    "\n",
    "# Vectoriser les features\n",
    "X_train_vec = vectoriser_features(X_train)\n",
    "X_test_vec = vectoriser_features(X_test)\n",
    "\n",
    "# Encoder les catégories\n",
    "y_train_encoded, label_encoder = encoder_categories(y_train)\n",
    "y_test_encoded = label_encoder.transform(y_test)\n",
    "\n",
    "# Entraîner le modèle\n",
    "modele = entrainer_modele(X_train_vec, y_train_encoded)\n",
    "\n",
    "# Évaluer le modèle\n",
    "accuracy = evaluer_modele(modele, X_test_vec, y_test_encoded)\n",
    "print(\"Précision du modèle :\", accuracy)"
   ]
  },
  {
   "cell_type": "code",
   "execution_count": null,
   "id": "662678cb-e756-4d3e-ae93-c1e3e999790e",
   "metadata": {},
   "outputs": [],
   "source": [
    "print(\"Nombre de features :\", len(features))\n",
    "print(\"Nombre de categories :\", len(categories))\n"
   ]
  },
  {
   "cell_type": "code",
   "execution_count": null,
   "id": "f95e7e87-0d9f-4a13-ac47-89869947347f",
   "metadata": {},
   "outputs": [],
   "source": []
  },
  {
   "cell_type": "code",
   "execution_count": null,
   "id": "c818cda9-d1c3-4932-87a2-388a011a1e86",
   "metadata": {},
   "outputs": [],
   "source": []
  }
 ],
 "metadata": {
  "kernelspec": {
   "display_name": "Python 3 (ipykernel)",
   "language": "python",
   "name": "python3"
  },
  "language_info": {
   "codemirror_mode": {
    "name": "ipython",
    "version": 3
   },
   "file_extension": ".py",
   "mimetype": "text/x-python",
   "name": "python",
   "nbconvert_exporter": "python",
   "pygments_lexer": "ipython3",
   "version": "3.11.7"
  }
 },
 "nbformat": 4,
 "nbformat_minor": 5
}
